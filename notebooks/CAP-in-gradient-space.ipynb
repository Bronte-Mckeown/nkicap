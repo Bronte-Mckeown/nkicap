{
 "cells": [
  {
   "cell_type": "code",
   "execution_count": 1,
   "id": "ef6f6cc4",
   "metadata": {},
   "outputs": [],
   "source": [
    "from pathlib import Path\n",
    "import json\n",
    "import pandas as pd\n",
    "\n",
    "import plotly.express as px\n",
    "from jupyter_dash import JupyterDash\n",
    "import dash_core_components as dcc\n",
    "import dash_html_components as html\n",
    "from dash.dependencies import Input, Output\n",
    "\n",
    "from nkicap.gradient import map_space\n",
    "from nkicap.utils import read_tsv, get_project_path"
   ]
  },
  {
   "cell_type": "code",
   "execution_count": 2,
   "id": "265e0cad",
   "metadata": {},
   "outputs": [],
   "source": [
    "def cap_to_gradient(data_path=None):\n",
    "    \"\"\"Map all cap map to gradient space on real data.\"\"\"\n",
    "    if Path(data_path).exists:\n",
    "        return read_tsv(data_path)\n",
    "    # load data collection\n",
    "    path_cap_collection = Path(get_project_path()) / \"data/cap.json\"\n",
    "    with open(path_cap_collection) as json_file:\n",
    "        path_cap = json.load(json_file)\n",
    "\n",
    "    # load group cap and map to gradient space\n",
    "    path_group_cap = path_cap[\"group\"]\n",
    "    group_cap = read_tsv(path_group_cap, index_col=0)\n",
    "    gradient_space = {\n",
    "        label: {\"group\": map_space(cap_val)}\n",
    "        for label, cap_val in group_cap.items()\n",
    "    }\n",
    "\n",
    "    # load subject cap and map to gradient space\n",
    "    for sub, path in path_cap[\"subject\"].items():\n",
    "        sub_cap = read_tsv(path, index_col=0)\n",
    "        for label, cap_val in sub_cap.items():\n",
    "            gradient_space[label][sub] = map_space(cap_val)\n",
    "\n",
    "    # covert to dataframe\n",
    "    collect = []\n",
    "    for key in gradient_space:\n",
    "        df = pd.DataFrame(\n",
    "            gradient_space[key], index=[f\"Gradient {i+1}\" for i in range(3)]\n",
    "        ).T\n",
    "        df[\"CAP\"] = key[-2:]\n",
    "        df.index.name = \"participant_id\"\n",
    "        df = df.reset_index()\n",
    "        collect.append(df)\n",
    "    gradient_space = pd.concat(collect, axis=0)\n",
    "    if data_path:\n",
    "        gradient_space.to_csv(data_path, sep=\"\\t\", index=False)\n",
    "    return gradient_space"
   ]
  },
  {
   "cell_type": "code",
   "execution_count": 3,
   "id": "86e4b18d",
   "metadata": {},
   "outputs": [],
   "source": [
    "gradient_space = cap_to_gradient(\n",
    "    Path(get_project_path()) / \"data/cap_gradient_space.tsv\"\n",
    ")"
   ]
  },
  {
   "cell_type": "code",
   "execution_count": 5,
   "id": "69385a1e",
   "metadata": {},
   "outputs": [],
   "source": [
    "app = JupyterDash(__name__)\n",
    "app.layout = html.Div(\n",
    "    [\n",
    "        dcc.Graph(id=\"gradient-space\"),\n",
    "        html.P(\"CAP label\"),\n",
    "        dcc.Checklist(\n",
    "            id=\"cap-label\",\n",
    "            options=[{\"label\": f\"{i}\", \"value\": f\"{i}\"} for i in range(1, 9)],\n",
    "            value=[\"1\", \"2\"],\n",
    "            labelStyle={\"display\": \"inline-block\"},\n",
    "        ),\n",
    "    ]\n",
    ")\n",
    "\n",
    "\n",
    "@app.callback(\n",
    "    Output(\"gradient-space\", \"figure\"), [Input(\"cap-label\", \"value\")]\n",
    ")\n",
    "def update_chart(value):\n",
    "    mask = []\n",
    "    for i in value:\n",
    "        mask.extend(\n",
    "            gradient_space[gradient_space[\"CAP\"] == int(i)].index.tolist()\n",
    "        )\n",
    "    fig = px.scatter_3d(\n",
    "        gradient_space.iloc[mask, :],\n",
    "        x=\"Gradient 1\",\n",
    "        y=\"Gradient 2\",\n",
    "        z=\"Gradient 3\",\n",
    "        range_x=[-1, 1],\n",
    "        range_y=[-1, 1],\n",
    "        range_z=[-1, 1],\n",
    "        range_color=[1, 8],\n",
    "        color=\"CAP\",\n",
    "        opacity=0.5,\n",
    "        width=800,\n",
    "        height=500,\n",
    "    )\n",
    "    return fig"
   ]
  },
  {
   "cell_type": "code",
   "execution_count": 6,
   "id": "8a2e643f",
   "metadata": {},
   "outputs": [
    {
     "data": {
      "text/html": [
       "\n",
       "        <iframe\n",
       "            width=\"100%\"\n",
       "            height=\"650\"\n",
       "            src=\"http://127.0.0.1:8050/\"\n",
       "            frameborder=\"0\"\n",
       "            allowfullscreen\n",
       "        ></iframe>\n",
       "        "
      ],
      "text/plain": [
       "<IPython.lib.display.IFrame at 0x7ff5c907ab80>"
      ]
     },
     "metadata": {},
     "output_type": "display_data"
    }
   ],
   "source": [
    "app.run_server(mode='inline')"
   ]
  },
  {
   "cell_type": "code",
   "execution_count": null,
   "id": "56bd669f",
   "metadata": {},
   "outputs": [],
   "source": []
  }
 ],
 "metadata": {
  "kernelspec": {
   "display_name": "nkicap-B8kCxnBO-py3.8",
   "language": "python",
   "name": "nkicap-b8kcxnbo-py3.8"
  },
  "language_info": {
   "codemirror_mode": {
    "name": "ipython",
    "version": 3
   },
   "file_extension": ".py",
   "mimetype": "text/x-python",
   "name": "python",
   "nbconvert_exporter": "python",
   "pygments_lexer": "ipython3",
   "version": "3.8.7"
  }
 },
 "nbformat": 4,
 "nbformat_minor": 5
}
